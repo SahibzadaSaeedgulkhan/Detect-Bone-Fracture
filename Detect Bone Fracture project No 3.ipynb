{
 "cells": [
  {
   "cell_type": "markdown",
   "id": "c7b882d6",
   "metadata": {},
   "source": [
    "# import Librarys"
   ]
  },
  {
   "cell_type": "code",
   "execution_count": 228,
   "id": "b485f702",
   "metadata": {},
   "outputs": [],
   "source": [
    "import pandas as pd\n",
    "import numpy as np\n"
   ]
  },
  {
   "cell_type": "markdown",
   "id": "7c59be86",
   "metadata": {},
   "source": [
    "# Import Fractured Image"
   ]
  },
  {
   "cell_type": "code",
   "execution_count": 229,
   "id": "ff9b9ab0",
   "metadata": {},
   "outputs": [],
   "source": [
    "import cv2\n",
    "import glob\n",
    "import os\n",
    "fractured=[]\n",
    "fractured_image=r\"C:\\Users\\Umar\\fractured\"\n",
    "image_path=os.path.join(fractured_image,\"*g\")\n",
    "images=glob.glob(image_path)\n",
    "for k in images:\n",
    "    cv=cv2.imread(k)\n",
    "    cv.resize(50,50,3)\n",
    "    fractured.append(cv)"
   ]
  },
  {
   "cell_type": "markdown",
   "id": "ef0a869e",
   "metadata": {},
   "source": [
    "# convert into array"
   ]
  },
  {
   "cell_type": "code",
   "execution_count": 230,
   "id": "5e97ff30",
   "metadata": {},
   "outputs": [
    {
     "name": "stdout",
     "output_type": "stream",
     "text": [
      "(4480, 50, 50, 3)\n"
     ]
    }
   ],
   "source": [
    "fractured=np.array(fractured)\n",
    "print(fractured.shape)"
   ]
  },
  {
   "cell_type": "markdown",
   "id": "a8387273",
   "metadata": {},
   "source": [
    "# import not_fractured image"
   ]
  },
  {
   "cell_type": "code",
   "execution_count": 231,
   "id": "43e26b38",
   "metadata": {},
   "outputs": [],
   "source": [
    "import cv2\n",
    "import os\n",
    "import glob\n",
    "not_fractured=[]\n",
    "not_fractured_image=r\"C:\\Users\\Umar\\not fractured\"\n",
    "path=os.path.join(not_fractured_image,\"*g\")\n",
    "glob=glob.glob(path)\n",
    "for i in glob:\n",
    "    cvs=cv2.imread(i)\n",
    "    cvs.resize(50,50,3)\n",
    "    not_fractured.append(cvs)\n",
    "\n"
   ]
  },
  {
   "cell_type": "markdown",
   "id": "d68760ec",
   "metadata": {},
   "source": [
    "# Convert into array"
   ]
  },
  {
   "cell_type": "code",
   "execution_count": 232,
   "id": "5dcc9979",
   "metadata": {},
   "outputs": [
    {
     "name": "stdout",
     "output_type": "stream",
     "text": [
      "(4383, 50, 50, 3)\n"
     ]
    }
   ],
   "source": [
    "not_fractured=np.array(not_fractured)\n",
    "print(not_fractured.shape)"
   ]
  },
  {
   "cell_type": "markdown",
   "id": "5d1a6d6f",
   "metadata": {},
   "source": [
    "# combine together fractured and not_fractured"
   ]
  },
  {
   "cell_type": "code",
   "execution_count": 233,
   "id": "bd06f150",
   "metadata": {},
   "outputs": [
    {
     "data": {
      "text/plain": [
       "array([[[[  0,   0,   0],\n",
       "         [  0,   0,   0],\n",
       "         [  0,   0,   0],\n",
       "         ...,\n",
       "         [  0,   0,   0],\n",
       "         [  0,   0,   0],\n",
       "         [  0,   0,   0]],\n",
       "\n",
       "        [[  0,   0,   0],\n",
       "         [  0,   0,   0],\n",
       "         [  0,   0,   0],\n",
       "         ...,\n",
       "         [103, 103, 103],\n",
       "         [117, 117, 117],\n",
       "         [140, 140, 140]],\n",
       "\n",
       "        [[171, 171, 171],\n",
       "         [167, 167, 167],\n",
       "         [152, 152, 152],\n",
       "         ...,\n",
       "         [  0,   0,   0],\n",
       "         [  0,   0,   0],\n",
       "         [  0,   0,   0]],\n",
       "\n",
       "        ...,\n",
       "\n",
       "        [[ 42,  42,  42],\n",
       "         [ 32,  32,  32],\n",
       "         [ 24,  24,  24],\n",
       "         ...,\n",
       "         [ 18,  18,  18],\n",
       "         [ 18,  18,  18],\n",
       "         [ 18,  18,  18]],\n",
       "\n",
       "        [[ 18,  18,  18],\n",
       "         [ 18,  18,  18],\n",
       "         [ 19,  19,  19],\n",
       "         ...,\n",
       "         [  0,   0,   0],\n",
       "         [  0,   0,   0],\n",
       "         [  0,   0,   0]],\n",
       "\n",
       "        [[  0,   0,   0],\n",
       "         [  0,   0,   0],\n",
       "         [  0,   0,   0],\n",
       "         ...,\n",
       "         [  0,   0,   0],\n",
       "         [  0,   0,   0],\n",
       "         [  0,   0,   0]]],\n",
       "\n",
       "\n",
       "       [[[  0,   0,   0],\n",
       "         [  0,   0,   0],\n",
       "         [  0,   0,   0],\n",
       "         ...,\n",
       "         [ 18,  18,  18],\n",
       "         [ 18,  18,  18],\n",
       "         [ 18,  18,  18]],\n",
       "\n",
       "        [[ 18,  18,  18],\n",
       "         [ 18,  18,  18],\n",
       "         [ 17,  17,  17],\n",
       "         ...,\n",
       "         [ 46,  46,  46],\n",
       "         [ 52,  52,  52],\n",
       "         [ 55,  55,  55]],\n",
       "\n",
       "        [[ 55,  55,  55],\n",
       "         [ 62,  62,  62],\n",
       "         [ 62,  62,  62],\n",
       "         ...,\n",
       "         [  0,   0,   0],\n",
       "         [  0,   0,   0],\n",
       "         [  3,   3,   3]],\n",
       "\n",
       "        ...,\n",
       "\n",
       "        [[171, 171, 171],\n",
       "         [174, 174, 174],\n",
       "         [174, 174, 174],\n",
       "         ...,\n",
       "         [189, 189, 189],\n",
       "         [182, 182, 182],\n",
       "         [177, 177, 177]],\n",
       "\n",
       "        [[165, 165, 165],\n",
       "         [146, 146, 146],\n",
       "         [110, 110, 110],\n",
       "         ...,\n",
       "         [  0,   0,   0],\n",
       "         [  0,   0,   0],\n",
       "         [  0,   0,   0]],\n",
       "\n",
       "        [[  0,   0,   0],\n",
       "         [  0,   0,   0],\n",
       "         [  0,   0,   0],\n",
       "         ...,\n",
       "         [ 17,  17,  17],\n",
       "         [ 18,  18,  18],\n",
       "         [ 17,  17,  17]]],\n",
       "\n",
       "\n",
       "       [[[  0,   0,   0],\n",
       "         [  0,   0,   0],\n",
       "         [  0,   0,   0],\n",
       "         ...,\n",
       "         [  0,   0,   0],\n",
       "         [  0,   0,   0],\n",
       "         [  0,   0,   0]],\n",
       "\n",
       "        [[  0,   0,   0],\n",
       "         [  0,   0,   0],\n",
       "         [  0,   0,   0],\n",
       "         ...,\n",
       "         [  3,   3,   3],\n",
       "         [  4,   4,   4],\n",
       "         [  6,   6,   6]],\n",
       "\n",
       "        [[  8,   8,   8],\n",
       "         [  9,   9,   9],\n",
       "         [ 12,  12,  12],\n",
       "         ...,\n",
       "         [  8,   8,   8],\n",
       "         [  7,   7,   7],\n",
       "         [  7,   7,   7]],\n",
       "\n",
       "        ...,\n",
       "\n",
       "        [[ 26,  26,  26],\n",
       "         [ 24,  24,  24],\n",
       "         [ 21,  21,  21],\n",
       "         ...,\n",
       "         [ 18,  18,  18],\n",
       "         [ 18,  18,  18],\n",
       "         [ 18,  18,  18]],\n",
       "\n",
       "        [[ 18,  18,  18],\n",
       "         [ 18,  18,  18],\n",
       "         [ 18,  18,  18],\n",
       "         ...,\n",
       "         [  0,   0,   0],\n",
       "         [  0,   0,   0],\n",
       "         [  0,   0,   0]],\n",
       "\n",
       "        [[  0,   0,   0],\n",
       "         [  0,   0,   0],\n",
       "         [  0,   0,   0],\n",
       "         ...,\n",
       "         [  0,   0,   0],\n",
       "         [  0,   0,   0],\n",
       "         [  0,   0,   0]]],\n",
       "\n",
       "\n",
       "       ...,\n",
       "\n",
       "\n",
       "       [[[  0,   0,   0],\n",
       "         [  0,   0,   0],\n",
       "         [  0,   0,   0],\n",
       "         ...,\n",
       "         [ 26,  26,  26],\n",
       "         [ 26,  26,  26],\n",
       "         [ 26,  26,  26]],\n",
       "\n",
       "        [[ 26,  26,  26],\n",
       "         [ 26,  26,  26],\n",
       "         [ 27,  27,  27],\n",
       "         ...,\n",
       "         [ 57,  57,  57],\n",
       "         [ 64,  64,  64],\n",
       "         [ 85,  85,  85]],\n",
       "\n",
       "        [[109, 109, 109],\n",
       "         [152, 152, 152],\n",
       "         [130, 130, 130],\n",
       "         ...,\n",
       "         [  0,   0,   0],\n",
       "         [  1,   1,   1],\n",
       "         [  1,   1,   1]],\n",
       "\n",
       "        ...,\n",
       "\n",
       "        [[194, 194, 194],\n",
       "         [208, 208, 208],\n",
       "         [210, 210, 210],\n",
       "         ...,\n",
       "         [ 22,  22,  22],\n",
       "         [ 23,  23,  23],\n",
       "         [ 23,  23,  23]],\n",
       "\n",
       "        [[ 23,  23,  23],\n",
       "         [ 24,  24,  24],\n",
       "         [ 24,  24,  24],\n",
       "         ...,\n",
       "         [ 27,  27,  27],\n",
       "         [ 27,  27,  27],\n",
       "         [ 27,  27,  27]],\n",
       "\n",
       "        [[ 27,  27,  27],\n",
       "         [ 27,  27,  27],\n",
       "         [ 27,  27,  27],\n",
       "         ...,\n",
       "         [ 25,  25,  25],\n",
       "         [ 25,  25,  25],\n",
       "         [ 25,  25,  25]]],\n",
       "\n",
       "\n",
       "       [[[  0,   0,   0],\n",
       "         [  0,   0,   0],\n",
       "         [  0,   0,   0],\n",
       "         ...,\n",
       "         [ 18,  18,  18],\n",
       "         [ 23,  23,  23],\n",
       "         [ 23,  23,  23]],\n",
       "\n",
       "        [[ 23,  23,  23],\n",
       "         [ 23,  23,  23],\n",
       "         [ 23,  23,  23],\n",
       "         ...,\n",
       "         [ 24,  24,  24],\n",
       "         [ 24,  24,  24],\n",
       "         [ 25,  25,  25]],\n",
       "\n",
       "        [[ 25,  25,  25],\n",
       "         [ 25,  25,  25],\n",
       "         [ 25,  25,  25],\n",
       "         ...,\n",
       "         [  1,   1,   1],\n",
       "         [  1,   1,   1],\n",
       "         [  0,   0,   0]],\n",
       "\n",
       "        ...,\n",
       "\n",
       "        [[ 24,  24,  24],\n",
       "         [ 24,  24,  24],\n",
       "         [ 24,  24,  24],\n",
       "         ...,\n",
       "         [153, 153, 153],\n",
       "         [157, 157, 157],\n",
       "         [159, 159, 159]],\n",
       "\n",
       "        [[103, 103, 103],\n",
       "         [ 28,  28,  28],\n",
       "         [  0,   0,   0],\n",
       "         ...,\n",
       "         [  0,   0,   0],\n",
       "         [  0,   0,   0],\n",
       "         [  0,   0,   0]],\n",
       "\n",
       "        [[  0,   0,   0],\n",
       "         [  0,   0,   0],\n",
       "         [  0,   0,   0],\n",
       "         ...,\n",
       "         [  1,   1,   1],\n",
       "         [  0,   0,   0],\n",
       "         [  0,   0,   0]]],\n",
       "\n",
       "\n",
       "       [[[ 25,  25,  25],\n",
       "         [ 26,  26,  26],\n",
       "         [ 26,  26,  26],\n",
       "         ...,\n",
       "         [ 28,  28,  28],\n",
       "         [ 27,  27,  27],\n",
       "         [ 27,  27,  27]],\n",
       "\n",
       "        [[ 28,  28,  28],\n",
       "         [ 28,  28,  28],\n",
       "         [ 27,  27,  27],\n",
       "         ...,\n",
       "         [ 26,  26,  26],\n",
       "         [ 26,  26,  26],\n",
       "         [ 27,  27,  27]],\n",
       "\n",
       "        [[ 27,  27,  27],\n",
       "         [ 27,  27,  27],\n",
       "         [ 28,  28,  28],\n",
       "         ...,\n",
       "         [ 28,  28,  28],\n",
       "         [ 28,  28,  28],\n",
       "         [ 28,  28,  28]],\n",
       "\n",
       "        ...,\n",
       "\n",
       "        [[ 28,  28,  28],\n",
       "         [ 28,  28,  28],\n",
       "         [ 27,  27,  27],\n",
       "         ...,\n",
       "         [ 27,  27,  27],\n",
       "         [ 27,  27,  27],\n",
       "         [ 27,  27,  27]],\n",
       "\n",
       "        [[ 27,  27,  27],\n",
       "         [ 27,  27,  27],\n",
       "         [ 27,  27,  27],\n",
       "         ...,\n",
       "         [ 27,  27,  27],\n",
       "         [ 27,  27,  27],\n",
       "         [ 27,  27,  27]],\n",
       "\n",
       "        [[ 27,  27,  27],\n",
       "         [ 26,  26,  26],\n",
       "         [ 27,  27,  27],\n",
       "         ...,\n",
       "         [ 27,  27,  27],\n",
       "         [ 27,  27,  27],\n",
       "         [ 27,  27,  27]]]], dtype=uint8)"
      ]
     },
     "execution_count": 233,
     "metadata": {},
     "output_type": "execute_result"
    }
   ],
   "source": [
    "x=np.r_[not_fractured,fractured]\n",
    "x"
   ]
  },
  {
   "cell_type": "markdown",
   "id": "0e590e62",
   "metadata": {},
   "source": [
    "# making labels "
   ]
  },
  {
   "cell_type": "code",
   "execution_count": 234,
   "id": "e468f470",
   "metadata": {},
   "outputs": [],
   "source": [
    "zero=np.zeros(4383)\n",
    "one=np.ones(4480)\n",
    "labels=np.r_[zero,one]"
   ]
  },
  {
   "cell_type": "code",
   "execution_count": 235,
   "id": "72594d83",
   "metadata": {},
   "outputs": [
    {
     "data": {
      "text/plain": [
       "(8863,)"
      ]
     },
     "execution_count": 235,
     "metadata": {},
     "output_type": "execute_result"
    }
   ],
   "source": [
    "labels.shape"
   ]
  },
  {
   "cell_type": "code",
   "execution_count": 236,
   "id": "2217a9e2",
   "metadata": {},
   "outputs": [],
   "source": [
    "new_image = cv2.imread(\"10.jpg\")"
   ]
  },
  {
   "cell_type": "code",
   "execution_count": 237,
   "id": "eafc1b53",
   "metadata": {},
   "outputs": [
    {
     "data": {
      "text/plain": [
       "(2232, 3282, 3)"
      ]
     },
     "execution_count": 237,
     "metadata": {},
     "output_type": "execute_result"
    }
   ],
   "source": [
    "new_image.shape"
   ]
  },
  {
   "cell_type": "code",
   "execution_count": 238,
   "id": "779c35bb",
   "metadata": {},
   "outputs": [],
   "source": [
    "new_image.resize(50,50,3)"
   ]
  },
  {
   "cell_type": "code",
   "execution_count": 239,
   "id": "9ee8ade8",
   "metadata": {},
   "outputs": [
    {
     "data": {
      "text/plain": [
       "(50, 50, 3)"
      ]
     },
     "execution_count": 239,
     "metadata": {},
     "output_type": "execute_result"
    }
   ],
   "source": [
    "new_image.shape"
   ]
  },
  {
   "cell_type": "markdown",
   "id": "67c243be",
   "metadata": {},
   "source": [
    "# import lirary for train and test"
   ]
  },
  {
   "cell_type": "code",
   "execution_count": 240,
   "id": "17fa670b",
   "metadata": {},
   "outputs": [],
   "source": [
    "from sklearn.model_selection import train_test_split"
   ]
  },
  {
   "cell_type": "markdown",
   "id": "9d73a3c2",
   "metadata": {},
   "source": [
    "# split into training and testing"
   ]
  },
  {
   "cell_type": "code",
   "execution_count": 241,
   "id": "dd865071",
   "metadata": {},
   "outputs": [],
   "source": [
    "xtrain,xtest,ytrain,ytest=train_test_split(x,labels,test_size=0.2,shuffle=True,random_state=5)"
   ]
  },
  {
   "cell_type": "markdown",
   "id": "b8ba28e7",
   "metadata": {},
   "source": [
    "# import deep learning library"
   ]
  },
  {
   "cell_type": "code",
   "execution_count": 242,
   "id": "cf1636f5",
   "metadata": {},
   "outputs": [],
   "source": [
    "from tensorflow.keras.models import Sequential\n",
    "from tensorflow.keras.layers import Dense\n",
    "from tensorflow.keras.layers import Dropout\n",
    "from tensorflow.keras.layers import BatchNormalization\n",
    "from tensorflow.keras.layers import Conv2D\n",
    "from tensorflow.keras.layers import MaxPooling2D\n",
    "from tensorflow.keras.layers import Flatten\n"
   ]
  },
  {
   "cell_type": "markdown",
   "id": "2b777119",
   "metadata": {},
   "source": [
    "# Model compilation"
   ]
  },
  {
   "cell_type": "code",
   "execution_count": 243,
   "id": "a9a3d16f",
   "metadata": {},
   "outputs": [
    {
     "name": "stdout",
     "output_type": "stream",
     "text": [
      "Model: \"sequential_21\"\n",
      "_________________________________________________________________\n",
      " Layer (type)                Output Shape              Param #   \n",
      "=================================================================\n",
      " conv2d_29 (Conv2D)          (None, 48, 48, 32)        896       \n",
      "                                                                 \n",
      " max_pooling2d_29 (MaxPoolin  (None, 24, 24, 32)       0         \n",
      " g2D)                                                            \n",
      "                                                                 \n",
      " flatten_18 (Flatten)        (None, 18432)             0         \n",
      "                                                                 \n",
      " dropout_8 (Dropout)         (None, 18432)             0         \n",
      "                                                                 \n",
      " batch_normalization_7 (Batc  (None, 18432)            73728     \n",
      " hNormalization)                                                 \n",
      "                                                                 \n",
      " dense_29 (Dense)            (None, 1)                 18433     \n",
      "                                                                 \n",
      "=================================================================\n",
      "Total params: 93,057\n",
      "Trainable params: 56,193\n",
      "Non-trainable params: 36,864\n",
      "_________________________________________________________________\n"
     ]
    }
   ],
   "source": [
    "model=Sequential()\n",
    "\n",
    "model.add(Conv2D(32,(3,3),input_shape=(50,50,3),activation=\"relu\"))\n",
    "model.add(MaxPooling2D(2,2))\n",
    "\n",
    "model.add(Flatten())\n",
    "\n",
    "model.add(Dropout(0.2))\n",
    "\n",
    "model.add(BatchNormalization())\n",
    "\n",
    "model.add(Dense(1,activation=\"sigmoid\"))\n",
    "\n",
    "model.compile(optimizer=\"adam\",loss=\"binary_crossentropy\",metrics=[\"accuracy\"])\n",
    "\n",
    "model.summary()"
   ]
  },
  {
   "cell_type": "markdown",
   "id": "98e7355e",
   "metadata": {},
   "source": [
    "# Model Train"
   ]
  },
  {
   "cell_type": "code",
   "execution_count": 247,
   "id": "011e1b4b",
   "metadata": {},
   "outputs": [
    {
     "name": "stdout",
     "output_type": "stream",
     "text": [
      "Epoch 1/19\n",
      "178/178 [==============================] - 13s 74ms/step - loss: 0.8858 - accuracy: 0.5882 - val_loss: 0.8772 - val_accuracy: 0.5776\n",
      "Epoch 2/19\n",
      "178/178 [==============================] - 65s 366ms/step - loss: 0.9765 - accuracy: 0.5973 - val_loss: 1.0835 - val_accuracy: 0.5635\n",
      "Epoch 3/19\n",
      "178/178 [==============================] - 15s 84ms/step - loss: 0.8622 - accuracy: 0.6090 - val_loss: 1.0065 - val_accuracy: 0.5811\n",
      "Epoch 4/19\n",
      "178/178 [==============================] - 14s 80ms/step - loss: 0.8808 - accuracy: 0.6065 - val_loss: 0.9363 - val_accuracy: 0.5790\n",
      "Epoch 5/19\n",
      "178/178 [==============================] - 13s 75ms/step - loss: 0.7745 - accuracy: 0.6403 - val_loss: 0.9540 - val_accuracy: 0.6114\n",
      "Epoch 6/19\n",
      "178/178 [==============================] - 14s 76ms/step - loss: 0.7512 - accuracy: 0.6379 - val_loss: 0.9747 - val_accuracy: 0.5994\n",
      "Epoch 7/19\n",
      "178/178 [==============================] - 16s 91ms/step - loss: 0.7335 - accuracy: 0.6513 - val_loss: 0.9348 - val_accuracy: 0.6079\n",
      "Epoch 8/19\n",
      "178/178 [==============================] - 20s 111ms/step - loss: 0.7715 - accuracy: 0.6474 - val_loss: 1.0932 - val_accuracy: 0.5762\n",
      "Epoch 9/19\n",
      "178/178 [==============================] - 19s 107ms/step - loss: 0.7413 - accuracy: 0.6564 - val_loss: 0.9202 - val_accuracy: 0.5973\n",
      "Epoch 10/19\n",
      "178/178 [==============================] - 19s 106ms/step - loss: 0.7392 - accuracy: 0.6553 - val_loss: 0.9161 - val_accuracy: 0.5924\n",
      "Epoch 11/19\n",
      "178/178 [==============================] - 19s 106ms/step - loss: 0.6757 - accuracy: 0.6719 - val_loss: 0.9980 - val_accuracy: 0.5846\n",
      "Epoch 12/19\n",
      "178/178 [==============================] - 19s 106ms/step - loss: 0.7179 - accuracy: 0.6765 - val_loss: 1.1970 - val_accuracy: 0.5585\n",
      "Epoch 13/19\n",
      "178/178 [==============================] - 19s 108ms/step - loss: 0.6916 - accuracy: 0.6715 - val_loss: 1.0007 - val_accuracy: 0.6199\n",
      "Epoch 14/19\n",
      "178/178 [==============================] - 19s 105ms/step - loss: 0.7023 - accuracy: 0.6675 - val_loss: 0.9773 - val_accuracy: 0.6142\n",
      "Epoch 15/19\n",
      "178/178 [==============================] - 19s 107ms/step - loss: 0.6863 - accuracy: 0.6804 - val_loss: 1.1025 - val_accuracy: 0.5987\n",
      "Epoch 16/19\n",
      "178/178 [==============================] - 19s 107ms/step - loss: 0.6879 - accuracy: 0.6811 - val_loss: 1.0726 - val_accuracy: 0.5776\n",
      "Epoch 17/19\n",
      "178/178 [==============================] - 19s 107ms/step - loss: 0.6426 - accuracy: 0.7013 - val_loss: 1.0593 - val_accuracy: 0.6227\n",
      "Epoch 18/19\n",
      "178/178 [==============================] - 19s 106ms/step - loss: 0.6552 - accuracy: 0.7020 - val_loss: 1.2716 - val_accuracy: 0.5599\n",
      "Epoch 19/19\n",
      "178/178 [==============================] - 20s 110ms/step - loss: 0.6669 - accuracy: 0.6945 - val_loss: 1.2767 - val_accuracy: 0.5811\n"
     ]
    },
    {
     "data": {
      "text/plain": [
       "<keras.callbacks.History at 0x256391b1be0>"
      ]
     },
     "execution_count": 247,
     "metadata": {},
     "output_type": "execute_result"
    }
   ],
   "source": [
    "model.fit(xtrain,ytrain,validation_split=0.2,epochs=19)"
   ]
  },
  {
   "cell_type": "markdown",
   "id": "c2658e18",
   "metadata": {},
   "source": [
    "# Model Prediction"
   ]
  },
  {
   "cell_type": "code",
   "execution_count": 248,
   "id": "3d96ed2b",
   "metadata": {
    "scrolled": true
   },
   "outputs": [
    {
     "name": "stdout",
     "output_type": "stream",
     "text": [
      "56/56 [==============================] - 1s 25ms/step\n"
     ]
    },
    {
     "data": {
      "text/plain": [
       "array([[0.99497616],\n",
       "       [0.36520743],\n",
       "       [0.19474208],\n",
       "       ...,\n",
       "       [0.8757977 ],\n",
       "       [0.02495991],\n",
       "       [0.84241587]], dtype=float32)"
      ]
     },
     "execution_count": 248,
     "metadata": {},
     "output_type": "execute_result"
    }
   ],
   "source": [
    "model.predict(xtest)"
   ]
  },
  {
   "cell_type": "markdown",
   "id": "264966bd",
   "metadata": {},
   "source": [
    "# Model Evaluation"
   ]
  },
  {
   "cell_type": "code",
   "execution_count": 249,
   "id": "0b87b0a5",
   "metadata": {
    "scrolled": false
   },
   "outputs": [
    {
     "name": "stdout",
     "output_type": "stream",
     "text": [
      "56/56 [==============================] - 2s 27ms/step - loss: 1.1143 - accuracy: 0.5798\n"
     ]
    },
    {
     "data": {
      "text/plain": [
       "[1.1143457889556885, 0.579808235168457]"
      ]
     },
     "execution_count": 249,
     "metadata": {},
     "output_type": "execute_result"
    }
   ],
   "source": [
    "model.evaluate(xtest,ytest)"
   ]
  },
  {
   "cell_type": "code",
   "execution_count": null,
   "id": "b048628a",
   "metadata": {},
   "outputs": [],
   "source": []
  }
 ],
 "metadata": {
  "kernelspec": {
   "display_name": "Python 3 (ipykernel)",
   "language": "python",
   "name": "python3"
  },
  "language_info": {
   "codemirror_mode": {
    "name": "ipython",
    "version": 3
   },
   "file_extension": ".py",
   "mimetype": "text/x-python",
   "name": "python",
   "nbconvert_exporter": "python",
   "pygments_lexer": "ipython3",
   "version": "3.9.7"
  }
 },
 "nbformat": 4,
 "nbformat_minor": 5
}
